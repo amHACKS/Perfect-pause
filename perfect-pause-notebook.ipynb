{
 "cells": [
  {
   "cell_type": "markdown",
   "metadata": {},
   "source": [
    "## The imports:"
   ]
  },
  {
   "cell_type": "code",
   "execution_count": 1,
   "metadata": {},
   "outputs": [],
   "source": [
    "import numpy as np\n",
    "import cv2\n",
    "import vlc\n",
    "import time"
   ]
  },
  {
   "cell_type": "markdown",
   "metadata": {},
   "source": [
    "## Define monitor_human() function :\n",
    "The monitor_human() function uses frames from the webcam, and used Computer Vision to decide if the user is paying attention to the screen or not."
   ]
  },
  {
   "cell_type": "code",
   "execution_count": 2,
   "metadata": {},
   "outputs": [],
   "source": [
    "def monitor_human():\n",
    "    return_var = 0\n",
    "\n",
    "    face_cascade = cv2.CascadeClassifier('haarcascade_frontalface_default.xml')\n",
    "    eye_cascade = cv2.CascadeClassifier(cv2.data.haarcascades + 'haarcascade_eye_tree_eyeglasses.xml')\n",
    "\n",
    "    first_read = True\n",
    "\n",
    "    cap = cv2.VideoCapture(0)\n",
    "    ret,img = cap.read()\n",
    "\n",
    "    while(ret):\n",
    "        ret,img = cap.read()\n",
    "        gray = cv2.cvtColor(img, cv2.COLOR_BGR2GRAY)\n",
    "        gray = cv2.bilateralFilter(gray,5,1,1)\n",
    "        #this will help with coping with the input noise.\n",
    "\n",
    "        faces = face_cascade.detectMultiScale(gray, 1.3, 5,minSize=(200,200))\n",
    "        if(len(faces)>0):\n",
    "            for (x,y,w,h) in faces:\n",
    "                img = cv2.rectangle(img,(x,y),(x+w,y+h),(0,255,255),10)\n",
    "\n",
    "                roi_face = gray[y:y+h,x:x+w]\n",
    "                roi_face_clr = img[y:y+h,x:x+w]\n",
    "                eyes = eye_cascade.detectMultiScale(img,1.3,5,minSize=(50,50))\n",
    "                for (ex,ey,ew,eh) in eyes:\n",
    "                    img=cv2.rectangle(img,(ex,ey),(ex+ew,ey+eh),(0,0,255),2)\n",
    "\n",
    "                if(len(eyes)>=2):\n",
    "                    pass\n",
    "                else:\n",
    "                    return_var=1\n",
    "\n",
    "        else:\n",
    "            return_var=1\n",
    "        return(return_var)"
   ]
  },
  {
   "cell_type": "code",
   "execution_count": null,
   "metadata": {},
   "outputs": [],
   "source": [
    "media_player = vlc.MediaPlayer()\n",
    "# set path to the movie \n",
    "media = vlc.Media(\"./rm.mkv\")\n",
    "media_player.set_media(media)\n",
    "media_player.audio_set_volume(100)\n",
    "while(True):\n",
    "    media_player.play()\n",
    "    time.sleep(0)\n",
    "    value = 0\n",
    "    if(monitor_human()==1):\n",
    "        while(monitor_human()==1):\n",
    "            media_player.set_pause(1)\n",
    "            time.sleep(1)\n",
    "            if(monitor_human()==0):\n",
    "                media_player.play()\n",
    "                time.sleep(0)\n",
    "                break"
   ]
  },
  {
   "cell_type": "code",
   "execution_count": null,
   "metadata": {},
   "outputs": [],
   "source": []
  }
 ],
 "metadata": {
  "kernelspec": {
   "display_name": "Python 3",
   "language": "python",
   "name": "python3"
  },
  "language_info": {
   "codemirror_mode": {
    "name": "ipython",
    "version": 3
   },
   "file_extension": ".py",
   "mimetype": "text/x-python",
   "name": "python",
   "nbconvert_exporter": "python",
   "pygments_lexer": "ipython3",
   "version": "3.7.6"
  }
 },
 "nbformat": 4,
 "nbformat_minor": 4
}
